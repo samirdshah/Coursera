{
 "cells": [
  {
   "cell_type": "markdown",
   "metadata": {},
   "source": [
    "# Applied Data Science Capstone Project"
   ]
  },
  {
   "cell_type": "markdown",
   "metadata": {},
   "source": [
    "## London Restaurants"
   ]
  },
  {
   "cell_type": "markdown",
   "metadata": {},
   "source": [
    "### __Background__"
   ]
  },
  {
   "cell_type": "markdown",
   "metadata": {},
   "source": [
    "Over the last half century, London’s restaurant scene has evolved into one of the most diverse and dynamic on the planet and is no often quoted as \"the food capital of the world\".\n",
    "\n",
    "London is firmly established as the world’s most exciting restaurant scene. With 17,000 restaurants, it may not have as many as Paris (40,000) or New York (45,000) but with a current rate of about 200 new non-chain openings a year, London’s dynamism, depth, breadth and diversity is unmatched. Authentic takes on every cuisine are available, from Senegalese to Szechuan, and some of the finest chefs in the world (both home-grown and from abroad) ply their trade in the capital. Concepts created in the city have been exported around the globe.\n",
    "\n",
    "One growing trend is for healthier eating. In particular, demand for meat-free food increased by 987% in 2017 in the UK, and going vegan was predicted to be the biggest trend in 2018."
   ]
  },
  {
   "cell_type": "markdown",
   "metadata": {},
   "source": [
    "### Hypothesis & Problem Statement"
   ]
  },
  {
   "cell_type": "markdown",
   "metadata": {},
   "source": [
    "Whilst many restaurants cater for vegetarians and vegans, there are still relatively very few restaurants in London that are 100% vegetarian/vegan. Thus there is a potential for a business to gain entry into a growing market with little competition. As a potential restaurant owner it would be important to understand the dynamics of such a market including factors such as population growth, demographics and of course how saturated or not the London market is with respect to vegetarian or vegan restaurants. "
   ]
  },
  {
   "cell_type": "markdown",
   "metadata": {},
   "source": [
    "### Data Sources "
   ]
  },
  {
   "cell_type": "markdown",
   "metadata": {},
   "source": [
    "For the purpose of this project data will be sourced as and used follows:\n"
   ]
  },
  {
   "cell_type": "markdown",
   "metadata": {},
   "source": [
    "1) Demographic and population trend data from the London Datastore, an open data portal made available from the Greater London Authority. This data will be used to assess the potential for growth by area within London, and will be used to chart (e.g. histograms) to show trends such as which parts of London have the highest workday population. "
   ]
  },
  {
   "cell_type": "markdown",
   "metadata": {},
   "source": [
    "2) Foursquare is a location provider with more than 105 million venues mapped around the world. Its location data will be used to provide to assess neighborhoods and to determine the current number and location of vegetarian/vegan restaurants using k-means clustering and what might be a suitable location for a new vegetarian/vegan restuarant. Will utilise the Follium library in Python to map the locations. "
   ]
  },
  {
   "cell_type": "code",
   "execution_count": null,
   "metadata": {},
   "outputs": [],
   "source": []
  }
 ],
 "metadata": {
  "kernelspec": {
   "display_name": "Python 3",
   "language": "python",
   "name": "python3"
  },
  "language_info": {
   "codemirror_mode": {
    "name": "ipython",
    "version": 3
   },
   "file_extension": ".py",
   "mimetype": "text/x-python",
   "name": "python",
   "nbconvert_exporter": "python",
   "pygments_lexer": "ipython3",
   "version": "3.7.0"
  }
 },
 "nbformat": 4,
 "nbformat_minor": 2
}
